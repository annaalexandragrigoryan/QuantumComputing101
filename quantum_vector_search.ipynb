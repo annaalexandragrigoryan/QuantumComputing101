{
 "cells": [
  {
   "cell_type": "code",
   "execution_count": 43,
   "metadata": {},
   "outputs": [],
   "source": [
    "#!pip install qiskit==0.46\n"
   ]
  },
  {
   "cell_type": "markdown",
   "metadata": {},
   "source": [
    "Given the complexity of encoding high-dimensional vectors for a quantum vector search and the constraints of current quantum simulation capabilities, we will design an end-to-end implementation that illustrates the core principles of quantum search using Grover's algorithm with Qiskit. \n",
    "\n",
    "Given the challenge of encoding high-dimensional vectors (e.g., 384-dimensional) directly, we'll work with a simplified, conceptual example. We'll represent our \"vectors\" as quantum states in a 2-qubit system, which naturally limits us to a search space of 4 states (|00⟩, |01⟩, |10⟩, and |11⟩). \n",
    "\n",
    "In a real-world application, encoding and preparation techniques would need to address dimensionality and normalization constraints."
   ]
  },
  {
   "cell_type": "markdown",
   "metadata": {},
   "source": [
    "Module 1: Encoding the Search Space"
   ]
  },
  {
   "cell_type": "code",
   "execution_count": 85,
   "metadata": {},
   "outputs": [],
   "source": [
    "from qiskit import QuantumCircuit\n",
    "\n",
    "def encode_search_space(circuit, qubits):\n",
    "    \"\"\"\n",
    "    Prepares an equal superposition of all states to represent the search space.\n",
    "    This encoding assumes a uniform distribution over the search space.\n",
    "    \"\"\"\n",
    "    circuit.h(qubits)\n"
   ]
  },
  {
   "cell_type": "markdown",
   "metadata": {},
   "source": [
    "Module 2: Oracle Definition"
   ]
  },
  {
   "cell_type": "code",
   "execution_count": 86,
   "metadata": {},
   "outputs": [],
   "source": [
    "def oracle(circuit, control_qubits):\n",
    "    \"\"\"\n",
    "    Oracle that marks the target state by applying a phase flip.\n",
    "    Example: Marks the |11> state as the target.\n",
    "    \"\"\"\n",
    "    circuit.cz(control_qubits[0], control_qubits[1])  # This example marks |11>\n"
   ]
  },
  {
   "cell_type": "markdown",
   "metadata": {},
   "source": [
    "Module 3: Grover's Diffusion Operator"
   ]
  },
  {
   "cell_type": "code",
   "execution_count": 87,
   "metadata": {},
   "outputs": [],
   "source": [
    "def diffusion_operator(circuit, qubits):\n",
    "    \"\"\"\n",
    "    Implements Grover's diffusion operator for amplifying the probability amplitude of the marked state.\n",
    "    \"\"\"\n",
    "    circuit.h(qubits)\n",
    "    circuit.z(qubits)\n",
    "    circuit.cz(qubits[0], qubits[1])  # Adds a phase flip if both qubits are 1\n",
    "    circuit.h(qubits)\n"
   ]
  },
  {
   "cell_type": "markdown",
   "metadata": {},
   "source": [
    "Module 4: Optimal Number of Grover Iterations"
   ]
  },
  {
   "cell_type": "code",
   "execution_count": 88,
   "metadata": {},
   "outputs": [],
   "source": [
    "import numpy as np\n",
    "\n",
    "def optimal_iterations(num_items):\n",
    "    \"\"\"\n",
    "    Estimates the optimal number of Grover iterations based on the total number of items in the search space.\n",
    "    \"\"\"\n",
    "    return int(np.round(np.pi / 4 * np.sqrt(num_items)))\n"
   ]
  },
  {
   "cell_type": "markdown",
   "metadata": {},
   "source": [
    "Now, let's create a simple test scenario where we have a small search space, making it feasible to run a full quantum simulation using Qiskit. We'll simulate searching for a specific state in a 4-state system (2 qubits)."
   ]
  },
  {
   "cell_type": "code",
   "execution_count": 89,
   "metadata": {},
   "outputs": [
    {
     "name": "stderr",
     "output_type": "stream",
     "text": [
      "/var/folders/dx/g396tl5116vgs1d_mtwjdcn00000gn/T/ipykernel_10327/3927215428.py:25: DeprecationWarning: The function ``qiskit.execute_function.execute()`` is deprecated as of qiskit 0.46.0. It will be removed in the Qiskit 1.0 release. This function combines ``transpile`` and ``backend.run``, which is covered by ``Sampler`` :mod:`~qiskit.primitives`. Alternatively, you can also run :func:`.transpile` followed by ``backend.run()``.\n",
      "  result = execute(circuit, backend, shots=1024).result()\n"
     ]
    },
    {
     "data": {
      "image/png": "[encoded data removed]",
      "text/plain": [
       "<Figure size 700x500 with 1 Axes>"
      ]
     },
     "execution_count": 89,
     "metadata": {},
     "output_type": "execute_result"
    }
   ],
   "source": [
    "from qiskit import Aer, execute, QuantumRegister, ClassicalRegister\n",
    "from qiskit.visualization import plot_histogram\n",
    "\n",
    "# Creating a quantum circuit with 2 qubits for the search space and 2 classical bits for measurement\n",
    "qr = QuantumRegister(2)\n",
    "cr = ClassicalRegister(2)\n",
    "circuit = QuantumCircuit(qr, cr)\n",
    "\n",
    "# Encoding the search space\n",
    "encode_search_space(circuit, qr)\n",
    "\n",
    "# Applying the oracle\n",
    "oracle(circuit, qr)\n",
    "\n",
    "# Applying Grover's diffusion operator the optimal number of times\n",
    "num_items = 4  # With 2 qubits, our search space has 4 states\n",
    "for _ in range(optimal_iterations(num_items)):\n",
    "    diffusion_operator(circuit, qr)\n",
    "\n",
    "# Measurement\n",
    "circuit.measure(qr, cr)\n",
    "\n",
    "# Execute the search\n",
    "backend = Aer.get_backend('qasm_simulator')\n",
    "result = execute(circuit, backend, shots=1024).result()\n",
    "counts = result.get_counts(circuit)\n",
    "\n",
    "# Visualize the results\n",
    "plot_histogram(counts)\n"
   ]
  }
 ],
 "metadata": {
  "kernelspec": {
   "display_name": "qcvenv",
   "language": "python",
   "name": "python3"
  },
  "language_info": {
   "codemirror_mode": {
    "name": "ipython",
    "version": 3
   },
   "file_extension": ".py",
   "mimetype": "text/x-python",
   "name": "python",
   "nbconvert_exporter": "python",
   "pygments_lexer": "ipython3",
   "version": "3.11.4"
  }
 },
 "nbformat": 4,
 "nbformat_minor": 2
}
